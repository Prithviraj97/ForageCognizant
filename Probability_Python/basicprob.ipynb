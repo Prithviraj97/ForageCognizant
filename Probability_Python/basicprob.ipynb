{
 "cells": [
  {
   "cell_type": "code",
   "execution_count": 1,
   "metadata": {},
   "outputs": [
    {
     "name": "stdout",
     "output_type": "stream",
     "text": [
      "Coin Toss Result: Tails\n"
     ]
    }
   ],
   "source": [
    "import random\n",
    "def simulate_coin_toss():\n",
    "    result = \"Heads\" if random.random() < 0.5 else \"Tails\"\n",
    "    return result\n",
    "\n",
    "coin_result = simulate_coin_toss()\n",
    "print(\"Coin Toss Result:\", coin_result)\n"
   ]
  },
  {
   "cell_type": "code",
   "execution_count": 2,
   "metadata": {},
   "outputs": [
    {
     "name": "stdout",
     "output_type": "stream",
     "text": [
      "Dice Roll Result: 4\n"
     ]
    }
   ],
   "source": [
    "def simulate_dice_roll():\n",
    "    result = random.randint(1, 6)\n",
    "    return result\n",
    "\n",
    "dice_result = simulate_dice_roll()\n",
    "print(\"Dice Roll Result:\", dice_result)\n"
   ]
  }
 ],
 "metadata": {
  "kernelspec": {
   "display_name": "Forage",
   "language": "python",
   "name": "python3"
  },
  "language_info": {
   "codemirror_mode": {
    "name": "ipython",
    "version": 3
   },
   "file_extension": ".py",
   "mimetype": "text/x-python",
   "name": "python",
   "nbconvert_exporter": "python",
   "pygments_lexer": "ipython3",
   "version": "3.11.5"
  }
 },
 "nbformat": 4,
 "nbformat_minor": 2
}
