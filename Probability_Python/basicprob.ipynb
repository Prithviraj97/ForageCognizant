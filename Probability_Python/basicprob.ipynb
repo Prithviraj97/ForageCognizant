{
 "cells": [
  {
   "cell_type": "code",
   "execution_count": 1,
   "metadata": {},
   "outputs": [
    {
     "name": "stdout",
     "output_type": "stream",
     "text": [
      "Coin Toss Result: Tails\n"
     ]
    }
   ],
   "source": [
    "import random\n",
    "def simulate_coin_toss():\n",
    "    result = \"Heads\" if random.random() < 0.5 else \"Tails\"\n",
    "    return result\n",
    "\n",
    "coin_result = simulate_coin_toss()\n",
    "print(\"Coin Toss Result:\", coin_result)\n"
   ]
  },
  {
   "cell_type": "code",
   "execution_count": 2,
   "metadata": {},
   "outputs": [
    {
     "name": "stdout",
     "output_type": "stream",
     "text": [
      "Dice Roll Result: 4\n"
     ]
    }
   ],
   "source": [
    "def simulate_dice_roll():\n",
    "    result = random.randint(1, 6)\n",
    "    return result\n",
    "\n",
    "dice_result = simulate_dice_roll()\n",
    "print(\"Dice Roll Result:\", dice_result)\n"
   ]
  },
  {
   "cell_type": "code",
   "execution_count": 3,
   "metadata": {},
   "outputs": [
    {
     "name": "stdout",
     "output_type": "stream",
     "text": [
      "Event Result: Event Did Not Occur\n"
     ]
    }
   ],
   "source": [
    "def event_with_probability(probability):\n",
    "    if random.random() < probability:\n",
    "        return \"Event Occurred\"\n",
    "    else:\n",
    "        return \"Event Did Not Occur\"\n",
    "\n",
    "event_prob = 0.3  # Example probability\n",
    "event_result = event_with_probability(event_prob)\n",
    "print(\"Event Result:\", event_result)\n"
   ]
  },
  {
   "cell_type": "code",
   "execution_count": 4,
   "metadata": {},
   "outputs": [
    {
     "name": "stdout",
     "output_type": "stream",
     "text": [
      "Number of events in 1000 trials: 317\n",
      "Probability observed: 0.317\n"
     ]
    }
   ],
   "source": [
    "def simulate_multiple_trials(trials, probability):\n",
    "    event_count = 0\n",
    "    for _ in range(trials):\n",
    "        if random.random() < probability:\n",
    "            event_count += 1\n",
    "    return event_count\n",
    "\n",
    "trials = 1000\n",
    "event_prob = 0.3\n",
    "event_count = simulate_multiple_trials(trials, event_prob)\n",
    "print(f\"Number of events in {trials} trials:\", event_count)\n",
    "print(\"Probability observed:\", event_count / trials)\n"
   ]
  }
 ],
 "metadata": {
  "kernelspec": {
   "display_name": "Forage",
   "language": "python",
   "name": "python3"
  },
  "language_info": {
   "codemirror_mode": {
    "name": "ipython",
    "version": 3
   },
   "file_extension": ".py",
   "mimetype": "text/x-python",
   "name": "python",
   "nbconvert_exporter": "python",
   "pygments_lexer": "ipython3",
   "version": "3.11.5"
  }
 },
 "nbformat": 4,
 "nbformat_minor": 2
}
