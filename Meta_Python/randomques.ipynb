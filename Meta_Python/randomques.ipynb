{
 "cells": [
  {
   "cell_type": "code",
   "execution_count": 2,
   "metadata": {},
   "outputs": [
    {
     "name": "stdout",
     "output_type": "stream",
     "text": [
      "['a', 'b', 'c']\n"
     ]
    }
   ],
   "source": [
    "old = ['a','b','a', 'c','b','a']\n",
    "#create a new list with unique elements i.e. no elements should repeat\n",
    "new_list=[]\n",
    "for element in old:\n",
    "    if element not in new_list:\n",
    "        new_list.append(element)    \n",
    "print (new_list)"
   ]
  },
  {
   "cell_type": "code",
   "execution_count": 5,
   "metadata": {},
   "outputs": [
    {
     "data": {
      "text/plain": [
       "['a', 'b', 'c']"
      ]
     },
     "execution_count": 5,
     "metadata": {},
     "output_type": "execute_result"
    }
   ],
   "source": [
    "#Better way to do above problem: better time and space complexity \n",
    "new_list2 = dict.fromkeys(old) #output ---> {'a': None, 'b': None, 'c': None}\n",
    "new_list2 = list(new_list2.keys()) #output --->[a,b,c]\n",
    "new_list2  "
   ]
  },
  {
   "cell_type": "code",
   "execution_count": 1,
   "metadata": {},
   "outputs": [
    {
     "name": "stdout",
     "output_type": "stream",
     "text": [
      "{'Potion': 5, 'Shield': 1, 'Sword': 2}\n"
     ]
    }
   ],
   "source": [
    "#The code is combining the `inv` and `loot` dictionaries to create a new inventory `new_inv`.\n",
    "inv ={'Sword': 1,\n",
    "'Potion': 3\n",
    "}\n",
    "\n",
    "loot ={'Sword': 1,\n",
    "        'Potion': 2,\n",
    "        'Shield': 1}\n",
    "\n",
    "new_inv ={\n",
    "k: inv.get(k, 0) + loot.get(k, 0) for k in set(inv | loot)}\n",
    "print (new_inv)"
   ]
  },
  {
   "cell_type": "code",
   "execution_count": 2,
   "metadata": {},
   "outputs": [
    {
     "name": "stdout",
     "output_type": "stream",
     "text": [
      "1\n"
     ]
    }
   ],
   "source": [
    "def swap_characters(input_str, index1, index2):\n",
    "    char_list = list(input_str)\n",
    "    if 0 <= index1 < len(char_list) and 0 <= index2 < len(char_list):\n",
    "        char_list[index1], char_list[index2] = char_list[index2], char_list[index1]\n",
    "        return ''.join(char_list)\n",
    "    else:\n",
    "        return input_str\n",
    "\n",
    "def matching_pairs(s, t):\n",
    "    if len(s) != len(t):\n",
    "        raise ValueError(\"Strings must have the same length\")\n",
    "\n",
    "    num_matching_pairs = 0\n",
    "\n",
    "    for i in range(len(s)):\n",
    "        if s[i] == t[i]:\n",
    "            continue  # Characters already match, no need to swap\n",
    "\n",
    "        # Try swapping characters at position i and j\n",
    "        for j in range(i + 1, len(s)):\n",
    "            swapped_s = swap_characters(s, i, j)\n",
    "            if swapped_s == t:\n",
    "                num_matching_pairs += 1\n",
    "                break  # Found a matching pair, move to the next character in s\n",
    "\n",
    "    return num_matching_pairs\n",
    "\n",
    "# Test the function\n",
    "s = \"abcd\"\n",
    "t = \"adcb\"\n",
    "result = matching_pairs(s, t)\n",
    "print(result)\n"
   ]
  },
  {
   "cell_type": "code",
   "execution_count": 3,
   "metadata": {},
   "outputs": [
    {
     "name": "stdout",
     "output_type": "stream",
     "text": [
      "✗Test #1: Expected [5] Your output: [3]\n",
      "✗Test #2: Expected [2] Your output: [4]\n"
     ]
    }
   ],
   "source": [
    "import math\n",
    "# Add any extra import statements you may need here\n",
    "\n",
    "\n",
    "# Add any helper functions you may need here\n",
    "def swap_char(string, i,j):\n",
    "  charlist = list(string)\n",
    "  if 0<=i<len(charlist) and 0<=j<len(charlist):\n",
    "    charlist[i], charlist[j] = charlist[j], charlist[i]\n",
    "    return ''.join(charlist)\n",
    "  else:\n",
    "    print(\"Invalid Indices\")\n",
    "    return string\n",
    "\n",
    "def matching_pairs(s, t):\n",
    "  # Write your code here\n",
    "  n = len(s)\n",
    "  match = sum(s[i] == t[i] for i in range(n))\n",
    "  mix_match = match\n",
    "  i,j = -1,-1\n",
    "  for x in range(n-1):\n",
    "      for y in range(x+1,n):\n",
    "          swaped = swap_char(s,x,y)\n",
    "          curmatch = sum(swaped[k]==t[k] for k in range(n))\n",
    "          if curmatch > mix_match:\n",
    "              mix_match = curmatch\n",
    "              i,j = x,y\n",
    "      return mix_match\n",
    "\n",
    "# These are the tests we use to determine if the solution is correct.\n",
    "# You can add your own at the bottom.\n",
    "\n",
    "def printInteger(n):\n",
    "  print('[', n, ']', sep='', end='')\n",
    "\n",
    "test_case_number = 1\n",
    "\n",
    "def check(expected, output):\n",
    "  global test_case_number\n",
    "  result = False\n",
    "  if expected == output:\n",
    "    result = True\n",
    "  rightTick = '\\u2713'\n",
    "  wrongTick = '\\u2717'\n",
    "  if result:\n",
    "    print(rightTick, 'Test #', test_case_number, sep='')\n",
    "  else:\n",
    "    print(wrongTick, 'Test #', test_case_number, ': Expected ', sep='', end='')\n",
    "    printInteger(expected)\n",
    "    print(' Your output: ', end='')\n",
    "    printInteger(output)\n",
    "    print()\n",
    "  test_case_number += 1\n",
    "\n",
    "if __name__ == \"__main__\":\n",
    "  s_1, t_1 = \"abcde\", \"adcbe\"\n",
    "  expected_1 = 5\n",
    "  output_1 = matching_pairs(s_1, t_1)\n",
    "  check(expected_1, output_1)\n",
    "\n",
    "  s_2, t_2 = \"abcd\", \"abcd\"\n",
    "  expected_2 = 2\n",
    "  output_2 = matching_pairs(s_2, t_2)\n",
    "  check(expected_2, output_2)\n",
    "\n",
    "  # Add your own test cases here\n",
    "  "
   ]
  },
  {
   "cell_type": "code",
   "execution_count": 7,
   "metadata": {},
   "outputs": [
    {
     "name": "stdout",
     "output_type": "stream",
     "text": [
      "3\n"
     ]
    }
   ],
   "source": [
    "def max_matching_pairs(s, t):\n",
    "    if len(s) != len(t):\n",
    "        raise ValueError(\"Strings must have the same length\")\n",
    "\n",
    "    n = len(s)\n",
    "\n",
    "    # Count initial matching pairs\n",
    "    initial_matching_pairs = sum(1 for i in range(n) if s[i] == t[i])\n",
    "\n",
    "    # Iterate over all pairs of indices (i, j) for swapping\n",
    "    max_matching_pairs = initial_matching_pairs\n",
    "\n",
    "    for i in range(n):\n",
    "        for j in range(i + 1, n):\n",
    "            # Swap characters at positions i and j in s\n",
    "            swapped_s = list(s)\n",
    "            swapped_s[i], swapped_s[j] = swapped_s[j], swapped_s[i]\n",
    "            swapped_s = ''.join(swapped_s)\n",
    "            if swapped_s[i] != swapped_s[j]:\n",
    "\n",
    "                # Count matching pairs after the swap\n",
    "                current_matching_pairs = sum(1 for k in range(n) if swapped_s[k] == t[k])\n",
    "\n",
    "                # Update the maximum matching pairs\n",
    "                max_matching_pairs = max(max_matching_pairs, current_matching_pairs)\n",
    "\n",
    "    return max_matching_pairs\n",
    "\n",
    "# Test the function\n",
    "s = \"mno\"\n",
    "t = \"mno\"\n",
    "result = max_matching_pairs(s, t)\n",
    "print(result)\n"
   ]
  },
  {
   "cell_type": "code",
   "execution_count": 15,
   "metadata": {},
   "outputs": [
    {
     "name": "stdout",
     "output_type": "stream",
     "text": [
      "-1\n"
     ]
    }
   ],
   "source": [
    "def min_substring_length(s, t):\n",
    "    # Count the frequency of characters in t\n",
    "    t_count = {}\n",
    "    for char in t:\n",
    "        t_count[char] = t_count.get(char, 0) + 1\n",
    "\n",
    "    # Initialize variables for sliding window\n",
    "    start = 0\n",
    "    end = 0\n",
    "    min_length = float('inf')\n",
    "    required_chars = len(t)\n",
    "\n",
    "    while end < len(s):\n",
    "        # Check if the current character is part of t\n",
    "        if s[end] in t_count:\n",
    "            if t_count[s[end]] > 0:\n",
    "                required_chars -= 1\n",
    "            t_count[s[end]] -= 1\n",
    "\n",
    "        # Try to minimize the substring by moving the start index\n",
    "        while required_chars == 0:\n",
    "            # Update the minimum length\n",
    "            min_length = min(min_length, end - start + 1)\n",
    "\n",
    "            # Move the start index and restore the character count\n",
    "            if s[start] in t_count:\n",
    "                t_count[s[start]] += 1\n",
    "                if t_count[s[start]] > 0:\n",
    "                    required_chars += 1\n",
    "            start += 1\n",
    "\n",
    "        # Move the end index to expand the substring\n",
    "        end += 1\n",
    "\n",
    "    return min_length if min_length != float('inf') else -1\n",
    "\n",
    "# Test the function\n",
    "s = \"bfbeadbcbcbfeaaeefcddcccbbbfaaafdbebedddf\"\n",
    "t = \"cbccfafebccdccebdd\"\n",
    "result = min_substring_length(s, t)\n",
    "print(result)\n"
   ]
  },
  {
   "cell_type": "code",
   "execution_count": 19,
   "metadata": {},
   "outputs": [
    {
     "name": "stdout",
     "output_type": "stream",
     "text": [
      "2\n"
     ]
    }
   ],
   "source": [
    "def minLengthSubstring(s, t):\n",
    "    m, n = len(s), len(t)\n",
    "    \n",
    "    res = float('inf')\n",
    "    for i in range(m):\n",
    "        visited = [0]*26\n",
    "        cnt = 0\n",
    "        \n",
    "        for j in range(i, m):\n",
    "            if j < m and visited[ord(s[j])-ord('a')] == 0: \n",
    "                visited[ord(s[j])-ord('a')] = 1\n",
    "                cnt += 1\n",
    "                \n",
    "            if cnt == n:\n",
    "                res = min(res, j-i+1)\n",
    "                break\n",
    "    if res == float('inf'):\n",
    "        return -1\n",
    "    return res\n",
    "s =  \"dcbefebce\"                              #\"bfbeadbcbcbfeaaeefcddcccbbbfaaafdbebedddf\"\n",
    "t =   \"fd\"                                          #\"cbccfafebccdccebdd\"\n",
    "result = minLengthSubstring(s, t)\n",
    "print(result)"
   ]
  },
  {
   "cell_type": "code",
   "execution_count": 20,
   "metadata": {},
   "outputs": [
    {
     "name": "stdout",
     "output_type": "stream",
     "text": [
      "-1\n"
     ]
    }
   ],
   "source": [
    "def minLengthSubstring2(s, t):\n",
    "    m, n = len(s), len(t)\n",
    "    if m < n: \n",
    "        return -1\n",
    "\n",
    "    min_len = float(\"inf\")\n",
    "    for i in range(m - n + 1):\n",
    "        chars = [0] * 26\n",
    "        for j in range(n):\n",
    "            index = ord(s[i+j]) - ord('a') \n",
    "            chars[index] += 1\n",
    "\n",
    "        if all(x > 0 for x in chars):\n",
    "            min_len = min(min_len, n)\n",
    "            break \n",
    "\n",
    "    if min_len == float(\"inf\"):\n",
    "        return -1\n",
    "\n",
    "    return min_len\n",
    "\n",
    "s =  \"dcbefebce\"                              #\"bfbeadbcbcbfeaaeefcddcccbbbfaaafdbebedddf\"\n",
    "t =   \"fd\"                                          #\"cbccfafebccdccebdd\"\n",
    "result = minLengthSubstring2(s, t)\n",
    "print(result)"
   ]
  },
  {
   "cell_type": "code",
   "execution_count": 1,
   "metadata": {},
   "outputs": [
    {
     "name": "stdout",
     "output_type": "stream",
     "text": [
      "2\n"
     ]
    }
   ],
   "source": [
    "#The function `count_pairs_with_sum` takes in an array `arr` and a target sum `k` as parameters. It counts the number of pairs in the array that have a sum equal to `k` and returns the count.\n",
    "def count_pairs_with_sum(arr, k):\n",
    "    element_count = {}  # Dictionary to store the frequency of each element\n",
    "    pair_count = 0  # Counter for the number of pairs with the sum k\n",
    "\n",
    "    for num in arr:\n",
    "        complement = k - num\n",
    "        if complement in element_count and element_count[complement] > 0:\n",
    "            # Found a pair (num, complement)\n",
    "            pair_count += 1\n",
    "            element_count[complement] -= 1\n",
    "        else:\n",
    "            # Update the count of the current element\n",
    "            element_count[num] = element_count.get(num, 0) + 1\n",
    "\n",
    "    return pair_count\n",
    "\n",
    "# from collections import Counter\n",
    "\n",
    "# def count_pairs_with_sum(arr, k):\n",
    "#     \"\"\"Count the number of pairs in arr that have a sum of k.\"\"\"\n",
    "#     count = Counter(arr) # Counter object to store the frequency of each element\n",
    "#     pair_count = 0 # Counter for the number of pairs with the sum k\n",
    "\n",
    "#     for num in count:\n",
    "#         complement = k - num\n",
    "#         if complement in count and count[complement] > 0:\n",
    "#             # Found a pair (num, complement)\n",
    "#             pair_count += 1\n",
    "#             count[complement] -= 1\n",
    "\n",
    "#     return pair_count\n",
    "\n",
    "# Test the function\n",
    "n = 5\n",
    "k = 6\n",
    "arr = [1, 5, 3, 3, 3]                     #[1, 2, 3, 4, 3]\n",
    "output = count_pairs_with_sum(arr, k)\n",
    "print(output)\n"
   ]
  },
  {
   "cell_type": "code",
   "execution_count": 12,
   "metadata": {},
   "outputs": [
    {
     "name": "stdout",
     "output_type": "stream",
     "text": [
      "(3, 8)\n"
     ]
    }
   ],
   "source": [
    "#The code defines a function called `find_maximum_pair` that takes two lists, `list1` and `list2`, as input.\n",
    "def find_maximum_pair(list1, list2):\n",
    "    max_pair = None\n",
    "    max_sum = float('-inf')\n",
    "    \n",
    "    for num1 in list1:\n",
    "        for num2 in list2:\n",
    "            pair_sum = num1 + num2\n",
    "            if pair_sum > max_sum:\n",
    "                max_sum = pair_sum\n",
    "                max_pair = (num1, num2)\n",
    "    \n",
    "    return max_pair\n",
    "\n",
    "# Example usage\n",
    "list1 = [1, 2, 3]\n",
    "list2 = [4, 5, 6, 7, 8]\n",
    "maximum_pair = find_maximum_pair(list1, list2)\n",
    "print(maximum_pair)"
   ]
  },
  {
   "cell_type": "code",
   "execution_count": 46,
   "metadata": {},
   "outputs": [
    {
     "name": "stdout",
     "output_type": "stream",
     "text": [
      "['cba', 'bac']\n"
     ]
    }
   ],
   "source": [
    "#The code is finding all permutations of a given string `S` that exist as substrings in another string `B`.\n",
    "from itertools import permutations\n",
    "\n",
    "def find_permutations(S, B):\n",
    "    permutations_list = []\n",
    "    len_s = len(S)\n",
    "    \n",
    "    for i in range(len(B) - len_s + 1):\n",
    "        substring = B[i:i+len_s]\n",
    "        if sorted(substring) == sorted(S):\n",
    "            permutations_list.append(substring)\n",
    "    \n",
    "    return permutations_list\n",
    "\n",
    "# Example usage\n",
    "S = \"abc\"\n",
    "B = \"cbadefbac\"\n",
    "permutations = find_permutations(S, B)\n",
    "print(permutations)"
   ]
  },
  {
   "cell_type": "code",
   "execution_count": 47,
   "metadata": {},
   "outputs": [
    {
     "name": "stdout",
     "output_type": "stream",
     "text": [
      "3\n"
     ]
    }
   ],
   "source": [
    "def find_common_elements(arr1, arr2):\n",
    "    count = 0\n",
    "    i = 0\n",
    "    j = 0\n",
    "    \n",
    "    while i < len(arr1) and j < len(arr2):\n",
    "        if arr1[i] == arr2[j]:\n",
    "            count += 1\n",
    "            i += 1\n",
    "            j += 1\n",
    "        elif arr1[i] < arr2[j]:\n",
    "            i += 1\n",
    "        else:\n",
    "            j += 1\n",
    "    \n",
    "    return count\n",
    "\n",
    "# Example usage\n",
    "arr1 = [1, 2, 3, 4, 5]\n",
    "arr2 = [3, 4, 5, 6, 7, 8]\n",
    "common_elements = find_common_elements(arr1, arr2)\n",
    "print(common_elements)"
   ]
  },
  {
   "cell_type": "code",
   "execution_count": null,
   "metadata": {},
   "outputs": [],
   "source": [
    "\n",
    "import random\n",
    "\n",
    "def get_random_number(arr):\n",
    "    return random.choice(arr)\n",
    "\n",
    "# Example usage\n",
    "arr = [1, 2, 3, 4, 5]\n",
    "random_number = get_random_number(arr)\n",
    "print(random_number)"
   ]
  },
  {
   "cell_type": "code",
   "execution_count": 2,
   "metadata": {},
   "outputs": [
    {
     "name": "stdout",
     "output_type": "stream",
     "text": [
      "         Multiplication Table        \n",
      "\n",
      "\n",
      "1 \t2 \t3 \t4 \t5 \t6 \t7 \t8 \t9 \t10 \t\n",
      "\n",
      "2 \t4 \t6 \t8 \t10 \t12 \t14 \t16 \t18 \t20 \t\n",
      "\n",
      "3 \t6 \t9 \t12 \t15 \t18 \t21 \t24 \t27 \t30 \t\n",
      "\n",
      "4 \t8 \t12 \t16 \t20 \t24 \t28 \t32 \t36 \t40 \t\n",
      "\n",
      "5 \t10 \t15 \t20 \t25 \t30 \t35 \t40 \t45 \t50 \t\n",
      "\n",
      "6 \t12 \t18 \t24 \t30 \t36 \t42 \t48 \t54 \t60 \t\n",
      "\n",
      "7 \t14 \t21 \t28 \t35 \t42 \t49 \t56 \t63 \t70 \t\n",
      "\n",
      "8 \t16 \t24 \t32 \t40 \t48 \t56 \t64 \t72 \t80 \t\n",
      "\n",
      "9 \t18 \t27 \t36 \t45 \t54 \t63 \t72 \t81 \t90 \t\n",
      "\n",
      "10 \t20 \t30 \t40 \t50 \t60 \t70 \t80 \t90 \t100 \t"
     ]
    }
   ],
   "source": [
    "#Multiplicatioh Table\n",
    "#Write a program that prints the multiplication table of all numbers  between 1 and 10.\n",
    "print(\"         Multiplication Table        \")\n",
    "for i in range(1,11):\n",
    "    print(\"\\n\")\n",
    "    for j in range(1,11):\n",
    "        print(i*j,\"\\t\",end=\"\")\n",
    "        "
   ]
  },
  {
   "cell_type": "code",
   "execution_count": 3,
   "metadata": {},
   "outputs": [
    {
     "name": "stdout",
     "output_type": "stream",
     "text": [
      "<function gcd at 0x0000025B68A0ED40>\n"
     ]
    }
   ],
   "source": [
    "def gcd(num1, num2):\n",
    "    g = 1\n",
    "    k= 2\n",
    "    while k<=num1 and k <= num2:\n",
    "        if (num1 % k == 0) and (num2 % k==0):\n",
    "            g = k\n",
    "            break\n",
    "        else:\n",
    "            k += 1\n",
    "    return gcd\n",
    "\n",
    "print(gcd(20,35))\n"
   ]
  },
  {
   "cell_type": "code",
   "execution_count": null,
   "metadata": {},
   "outputs": [],
   "source": [
    "def isLeapYear(year):\n",
    "    return year %400 ==0 or (year % 4==0 and year %100 !=0)"
   ]
  },
  {
   "cell_type": "code",
   "execution_count": 13,
   "metadata": {},
   "outputs": [
    {
     "name": "stdout",
     "output_type": "stream",
     "text": [
      "[1, 3, 4, 5, 0, 0]\n"
     ]
    }
   ],
   "source": [
    "nums = [0,1,0, 3, 4, 5]\n",
    "right =0\n",
    "left =0\n",
    "while right < len(nums):\n",
    "    if nums[right] != 0:\n",
    "        nums[left],nums[right] = nums[right], nums[left]\n",
    "        left +=1\n",
    "    else:\n",
    "        right += 1\n",
    "print(nums)\n"
   ]
  },
  {
   "cell_type": "code",
   "execution_count": 15,
   "metadata": {},
   "outputs": [
    {
     "name": "stdout",
     "output_type": "stream",
     "text": [
      "['Singh', 'Khanal', 'Yadav', 'Yadav']\n"
     ]
    }
   ],
   "source": [
    "names = ['Prithvi Raj Singh', 'Saroj Khanal', 'Bikash Yadav', 'Arun Yadav']\n",
    "#print just the last names\n",
    "last_names = [name.split()[-1] for name in names]\n",
    "print(last_names)"
   ]
  },
  {
   "cell_type": "code",
   "execution_count": 17,
   "metadata": {},
   "outputs": [
    {
     "name": "stdout",
     "output_type": "stream",
     "text": [
      "Prithvi Raj Singh is 25 years old.\n"
     ]
    }
   ],
   "source": [
    "#unpacking from a given list of user inputs.\n",
    "user_inputs = ['Prithvi Raj', 'Singh', 'Lake Charles','DOB-03/24/1997', 25]\n",
    "first, last, *_, age = user_inputs\n",
    "print(f'{first} {last} is {age} years old.')"
   ]
  },
  {
   "cell_type": "code",
   "execution_count": 20,
   "metadata": {},
   "outputs": [
    {
     "name": "stdout",
     "output_type": "stream",
     "text": [
      "False\n"
     ]
    }
   ],
   "source": [
    "#write code that performs following tasks: given a integer 'x' return true if it is a palindrome.\n",
    "#palindromes are numbers or strings that read the same backward as forward, for example 414\n",
    "def is_palindrome(x):\n",
    "    x = str(x)\n",
    "    length = len(x)\n",
    "    for i in range(length//2):\n",
    "        if x[i] != x[-i-1]:          #x[-i-1] means object at index[i] from end of the original string.\n",
    "            return False\n",
    "        return True\n",
    "\n",
    "print(is_palindrome(120))\n"
   ]
  },
  {
   "cell_type": "code",
   "execution_count": 21,
   "metadata": {},
   "outputs": [
    {
     "name": "stdout",
     "output_type": "stream",
     "text": [
      "my_num is 5, and my_str is \"Hello\".\n"
     ]
    }
   ],
   "source": [
    "my_num = 5\n",
    "my_str = \"Hello\"\n",
    "\n",
    "f = \"my_num is {}, and my_str is \\\"{}\\\".\".format(my_num, my_str)\n",
    "print(f)"
   ]
  },
  {
   "cell_type": "code",
   "execution_count": 3,
   "metadata": {},
   "outputs": [
    {
     "name": "stdout",
     "output_type": "stream",
     "text": [
      "1\n"
     ]
    }
   ],
   "source": [
    "x = [\"1\", \"2\", \"3\", \"4\"]\n",
    "numbers = list(x)\n",
    "x[0] = \"0\"\n",
    "print(numbers[0])"
   ]
  },
  {
   "cell_type": "code",
   "execution_count": 11,
   "metadata": {},
   "outputs": [
    {
     "data": {
      "text/plain": [
       "['b', 'c', 'd']"
      ]
     },
     "execution_count": 11,
     "metadata": {},
     "output_type": "execute_result"
    }
   ],
   "source": [
    "x = [\"a\", \"b\", \"c\", \"d\"]\n",
    "x[1:]"
   ]
  },
  {
   "cell_type": "code",
   "execution_count": 12,
   "metadata": {},
   "outputs": [
    {
     "name": "stdout",
     "output_type": "stream",
     "text": [
      "[0, 0, 2, 1]\n"
     ]
    }
   ],
   "source": [
    "#count number of certain char in a list\n",
    "x=['cry','myth','aqua','ciao']\n",
    "n_vowel = map(lambda w:w.count('a'),x)\n",
    "print(list(n_vowel))"
   ]
  },
  {
   "cell_type": "code",
   "execution_count": 1,
   "metadata": {},
   "outputs": [
    {
     "name": "stdout",
     "output_type": "stream",
     "text": [
      "[[3]]\n"
     ]
    }
   ],
   "source": [
    "import numpy as np\n",
    "z = np.array([[1,1,1],\n",
    "[3,4,4]])\n",
    "print(z[1:,:1])"
   ]
  },
  {
   "cell_type": "code",
   "execution_count": 2,
   "metadata": {},
   "outputs": [
    {
     "name": "stdout",
     "output_type": "stream",
     "text": [
      "5\n"
     ]
    }
   ],
   "source": [
    "x = [7,8,9]\n",
    "y = [-3.3, -2, 3.2]+x[0:2]\n",
    "print(len(y))"
   ]
  },
  {
   "cell_type": "code",
   "execution_count": 8,
   "metadata": {},
   "outputs": [
    {
     "name": "stdout",
     "output_type": "stream",
     "text": [
      "olleH\n"
     ]
    }
   ],
   "source": [
    "s = \"Hello\"\n",
    "def recursive(string):\n",
    "    if len(string) <= 1:\n",
    "        return string\n",
    "    return recursive(string[1:]) + string[0]\n",
    "print(recursive(s))\n",
    "#just simply use slicing like s[::-1]. #@lru_cache"
   ]
  },
  {
   "cell_type": "code",
   "execution_count": 9,
   "metadata": {},
   "outputs": [
    {
     "name": "stdout",
     "output_type": "stream",
     "text": [
      "4\n"
     ]
    }
   ],
   "source": [
    "#given a sorted array of values, and target values. Return the index if the target is found in array, if not return index where the number will be inserted.\n",
    "def searchInsert(nums, target):\n",
    "    for i in range(len(nums)):\n",
    "        if nums[i] == target or nums[i]>target:\n",
    "            return i\n",
    "    return len(nums)\n",
    "        # if target not in nums:\n",
    "        #     nums = nums[i]+target\n",
    "        #     return i\n",
    "\n",
    "print(searchInsert([1, 3, 5, 6], 7))"
   ]
  },
  {
   "cell_type": "code",
   "execution_count": 11,
   "metadata": {},
   "outputs": [
    {
     "name": "stdout",
     "output_type": "stream",
     "text": [
      "4\n"
     ]
    }
   ],
   "source": [
    "#Above function in binary search\n",
    "#When numbers are sorted, its better to use binary search algorithm since the time complexity is O(logn)\n",
    "def searchInsert2(nums, target):\n",
    "    left=0\n",
    "    right = len(nums)-1\n",
    "    while left<=right:\n",
    "        mid = left+(right-left)//2\n",
    "        if nums[mid]==target:\n",
    "            return mid\n",
    "        elif nums[mid] < target:\n",
    "            left = mid+1\n",
    "        else:\n",
    "            right = mid-1\n",
    "    return left\n",
    "\n",
    "print(searchInsert([1, 3, 5, 6], 7))"
   ]
  },
  {
   "cell_type": "code",
   "execution_count": 26,
   "metadata": {},
   "outputs": [
    {
     "name": "stdout",
     "output_type": "stream",
     "text": [
      "None\n",
      "[12, 7, 6, 5, 4]\n"
     ]
    }
   ],
   "source": [
    " arr =[12, 7, 4, 5, 6]\n",
    " print(arr.sort(reverse=True))\n",
    " print(arr)"
   ]
  },
  {
   "cell_type": "code",
   "execution_count": 29,
   "metadata": {},
   "outputs": [
    {
     "name": "stdout",
     "output_type": "stream",
     "text": [
      "True\n"
     ]
    }
   ],
   "source": [
    "def balancedSplitExists(arr):\n",
    "  # Write your code here\n",
    "  arr.sort(reverse=True)\n",
    "  sum_a=0\n",
    "  sum_b=0\n",
    "  for num in arr:\n",
    "    if sum_a <= sum_b:\n",
    "      sum_a += num\n",
    "    else:\n",
    "      sum_b += num\n",
    "  return sum_a == sum_b\n",
    "\n",
    "arr = [12, 7, 4, 5, 6]\n",
    "print(balancedSplitExists(arr))"
   ]
  },
  {
   "cell_type": "code",
   "execution_count": 41,
   "metadata": {},
   "outputs": [
    {
     "name": "stdout",
     "output_type": "stream",
     "text": [
      "False\n"
     ]
    }
   ],
   "source": [
    "target = 15\n",
    "deno = [5, 10, 25, 100, 200]\n",
    "def find_deno(target, deno):\n",
    "    for i in range(len(deno)-1):\n",
    "        if target == deno[i]:\n",
    "            return True\n",
    "        else:\n",
    "            return False\n",
    "\n",
    "v = find_deno(target, deno)\n",
    "print(v)"
   ]
  },
  {
   "cell_type": "code",
   "execution_count": 46,
   "metadata": {},
   "outputs": [
    {
     "name": "stdout",
     "output_type": "stream",
     "text": [
      "False\n"
     ]
    }
   ],
   "source": [
    "#Lets write a recursive function to check if we can get exact change given a target and available denominations.\n",
    "def exact_change(target, denominations):\n",
    "    \"\"\"\n",
    "    Given a target amount and a list of denominations, return the minimum number of coins\n",
    "    required to make the target amount.\n",
    "    Args:\n",
    "    target (int): The target amount to make.\n",
    "    denominations (List[int]): The list of denominations available.\n",
    "    Returns:\n",
    "    int: The minimum number of coins required to make the target amount.\n",
    "    \"\"\"\n",
    "    if target == 0:\n",
    "        return True\n",
    "    if target < 0:\n",
    "        return False\n",
    "    # for i in range(len(denominations)-1):\n",
    "    #     if target == denominations[i]:\n",
    "    #         return True\n",
    "    #     else:\n",
    "    for denom in denominations:\n",
    "        if exact_change(target-denom, denominations):\n",
    "            return True\n",
    "    return False\n",
    "target_2 = 94\n",
    "arr_2 = [5, 10, 25, 100, 200]#[4, 17, 29]\n",
    "print(exact_change(target_2, arr_2))\n"
   ]
  },
  {
   "cell_type": "code",
   "execution_count": 47,
   "metadata": {},
   "outputs": [
    {
     "name": "stdout",
     "output_type": "stream",
     "text": [
      "True\n"
     ]
    }
   ],
   "source": [
    "def isBalanced(s):\n",
    "\n",
    "    stack = []\n",
    "\n",
    "    brackets_map = {\n",
    "        ')': '(',\n",
    "        '}': '{',\n",
    "        ']': '['\n",
    "    }\n",
    "\n",
    "    for char in s:\n",
    "        if char in brackets_map:\n",
    "\n",
    "            # Closing bracket\n",
    "            if not stack or stack[-1] != brackets_map[char]:\n",
    "                return False\n",
    "            stack.pop()\n",
    "\n",
    "        else:\n",
    "            # Opening bracket\n",
    "            stack.append(char)\n",
    "\n",
    "    return not stack\n",
    "s= \"{{[[(())]]}}\"\n",
    "print(isBalanced(s))\n"
   ]
  },
  {
   "cell_type": "code",
   "execution_count": 2,
   "metadata": {},
   "outputs": [
    {
     "name": "stdout",
     "output_type": "stream",
     "text": [
      "[1, 2, 4, 3]\n"
     ]
    }
   ],
   "source": [
    "numbers = [4, 2, 1, 3]\n",
    "import heapq\n",
    "v = heapq.heapify(numbers)\n",
    "print(numbers)"
   ]
  },
  {
   "cell_type": "code",
   "execution_count": 20,
   "metadata": {},
   "outputs": [
    {
     "name": "stdout",
     "output_type": "stream",
     "text": [
      "19\n"
     ]
    }
   ],
   "source": [
    "import heapq\n",
    "def slowsum(arr):\n",
    "    heapq.heapify(arr)\n",
    "    penalty = 0\n",
    "    while len(arr) > 1:\n",
    "        num1 = heapq.heappop(arr)\n",
    "        num2 = heapq.heappop(arr)\n",
    "        current_sum = num1 + num2\n",
    "        penalty += current_sum\n",
    "        heapq.heappush(arr, current_sum)\n",
    "        \n",
    "    return penalty\n",
    "num = [4, 2, 1, 3]\n",
    "result = slowsum(num)\n",
    "print(result)\n"
   ]
  },
  {
   "cell_type": "code",
   "execution_count": 14,
   "metadata": {},
   "outputs": [
    {
     "name": "stdout",
     "output_type": "stream",
     "text": [
      "10\n"
     ]
    }
   ],
   "source": [
    "import heapq as hq\n",
    "\n",
    "def max_penalty(arr):\n",
    "    heap = arr[:]\n",
    "    hq.heapify(heap)\n",
    "    \n",
    "    penalty = 0\n",
    "    while len(heap) > 1:\n",
    "        a = hq.heappop(heap)\n",
    "        b = hq.heappop(heap)\n",
    "        sum = a+b\n",
    "        penalty += sum\n",
    "        \n",
    "    return penalty\n",
    "\n",
    "num2 = [4,2,1,3]\n",
    "print(max_penalty(num2))"
   ]
  },
  {
   "cell_type": "code",
   "execution_count": 22,
   "metadata": {},
   "outputs": [
    {
     "name": "stdout",
     "output_type": "stream",
     "text": [
      "Time taken by the function is :  0.018949031829833984\n"
     ]
    }
   ],
   "source": [
    "#Given a list of num shift all the zeros to the end\n",
    "def func(array):\n",
    "    t = []\n",
    "    count = 0\n",
    "    for i in array:\n",
    "        if i != 0:\n",
    "            t.append(i)\n",
    "        else:\n",
    "            count += 1\n",
    "    t.extend(count*[0])\n",
    "    return t\n",
    "\n",
    "import random\n",
    "import time\n",
    "n = 200000\n",
    "array = [random.randint(0,9) for _ in range(n)]\n",
    "start = time.time()\n",
    "x = func(array)\n",
    "stop = time.time()\n",
    "print(\"Time taken by the function is : \",stop-start)\n"
   ]
  },
  {
   "cell_type": "code",
   "execution_count": 26,
   "metadata": {},
   "outputs": [
    {
     "name": "stdout",
     "output_type": "stream",
     "text": [
      "1\n"
     ]
    }
   ],
   "source": [
    "#Given a list of numbers sort it out and use binary search to look for the ith element\n",
    "# num = [random.randint(0,9) for _ in range(13)]\n",
    "# print(\"Original List: \", num)\n",
    "num2 = [4, 1, 6, 2, 9, 5, 1, 2, 0, 7, 4, 5, 8]\n",
    "def binary_search(array, num):\n",
    "    array.sort()\n",
    "    left = 0\n",
    "    right = len(array)-1\n",
    "    while left <= right:\n",
    "\n",
    "        mid = (left + (right-left))//2\n",
    "        if num < array[mid]:\n",
    "            right = mid - 1\n",
    "        elif num == array[mid]:\n",
    "            return mid\n",
    "        else:\n",
    "            left = mid + 1\n",
    "    return mid\n",
    "\n",
    "print(binary_search([3, 4, 5, 6, 7, 8, 9], 4))\n",
    "        "
   ]
  },
  {
   "cell_type": "code",
   "execution_count": null,
   "metadata": {},
   "outputs": [],
   "source": [
    "#Binary search recursively\n",
    "#Given a sorted array of integers, write a function that performs binary search on the array using recursion.\n",
    "def binarySearchRec(arr, target):\n",
    "    arr.sort()\n",
    "    left = 0\n",
    "    right = len(arr)-1\n",
    "    while left <=right:\n",
    "        mid = (left + (right-left))//2\n",
    "        if arr[mid] == target:\n",
    "            return(mid)\n",
    "        elif target < arr[mid]:\n",
    "            binarySearchRec(arr[mid], target, left, mid-1)\n",
    "        else:\n",
    "            binarySearchRec(arr[mid], target, mid+1, right)\n",
    "    return mid\n",
    "\n",
    "print(binarySearchRec([3, 4, 5, 6, 7, 8, 9], 4))"
   ]
  },
  {
   "cell_type": "code",
   "execution_count": 48,
   "metadata": {},
   "outputs": [
    {
     "data": {
      "text/plain": [
       "8"
      ]
     },
     "execution_count": 48,
     "metadata": {},
     "output_type": "execute_result"
    }
   ],
   "source": [
    "#Given an unsorted array and a value, find the value's index if the value is there or find a place to insert it.\n",
    "def search_insert(nums, target):\n",
    "    for num in nums:\n",
    "        if num == target:\n",
    "            return nums.index(target)\n",
    "        else:\n",
    "            nums.append(target)\n",
    "search_insert([3, 4,4, 5, 6, 7, 8, 9], 10)"
   ]
  },
  {
   "cell_type": "code",
   "execution_count": 40,
   "metadata": {},
   "outputs": [
    {
     "name": "stdout",
     "output_type": "stream",
     "text": [
      "[9, 3, 8, 7, 7, 6, 5, 4, 4, 3]\n"
     ]
    },
    {
     "data": {
      "text/plain": [
       "{3, 4, 5, 6, 7, 8, 9}"
      ]
     },
     "execution_count": 40,
     "metadata": {},
     "output_type": "execute_result"
    }
   ],
   "source": [
    "#if numbers inside the list are repeating we can find the unique values using set(). set() can also sort elements\n",
    "#Given a example below:\n",
    "num_arr =  [3, 4,4, 5, 6, 7, 7, 8,3, 9]\n",
    "v =num_arr[::-1]\n",
    "num_arr2 = set(v)\n",
    "num_arr2"
   ]
  },
  {
   "cell_type": "code",
   "execution_count": 41,
   "metadata": {},
   "outputs": [
    {
     "name": "stdout",
     "output_type": "stream",
     "text": [
      "K Largest Elements are :  [23, 50, 30]\n"
     ]
    }
   ],
   "source": [
    "#Given a list of elements in any order, find k largest elements. \n",
    "import heapq\n",
    "\n",
    "def k_largest_elements(arr, k):\n",
    "    \n",
    "    # min heap to store k largest\n",
    "    min_heap = [] \n",
    "\n",
    "    for num in arr:\n",
    "\n",
    "        # add each num to heap  \n",
    "        heapq.heappush(min_heap, num)\n",
    "\n",
    "        # remove smallest if heap > k \n",
    "        if len(min_heap) > k:\n",
    "            heapq.heappop(min_heap)\n",
    "\n",
    "    # heap contains k largest elements     \n",
    "    return min_heap\n",
    "\n",
    "b = [1,23,12,9,30,2,50]\n",
    "k = 3\n",
    "print(\"K Largest Elements are : \", k_largest_elements(b, k))"
   ]
  },
  {
   "cell_type": "code",
   "execution_count": 45,
   "metadata": {},
   "outputs": [
    {
     "name": "stdout",
     "output_type": "stream",
     "text": [
      "Length of the Longest Substring with At Most Two Distinct Characters is : 4\n"
     ]
    }
   ],
   "source": [
    "def longest_non_repeat(string):\n",
    "    n = len(string)\n",
    "    curr_len = 1\n",
    "    max_len = 1\n",
    "    visited = {}\n",
    "    i = 0\n",
    "    \n",
    "    for j in range(n):\n",
    "        if string[j] not in visited:\n",
    "            curr_len += 1\n",
    "            \n",
    "            visited[string[j]] = j\n",
    "            max_len = max(max_len, curr_len)\n",
    "            \n",
    "        else:\n",
    "            i = visited[string[j]] +1\n",
    "            curr_len = j - i + 1\n",
    "            \n",
    "            visited[string[j]] = j\n",
    "            \n",
    "    return max_len\n",
    "\n",
    "s = \"abcabcbb\"\n",
    "print(\"Length of the Longest Substring with At Most Two Distinct Characters is :\",longest_non_repeat(s))"
   ]
  },
  {
   "cell_type": "code",
   "execution_count": 43,
   "metadata": {},
   "outputs": [
    {
     "name": "stdout",
     "output_type": "stream",
     "text": [
      "3\n"
     ]
    }
   ],
   "source": [
    "def longest_substring_without_repeating(s):\n",
    "    n = len(s)\n",
    "    char_index_map = {}  # To store the index of each character\n",
    "    max_length = 0\n",
    "    start = 0\n",
    "\n",
    "    for end in range(n):\n",
    "        # If the character is already in the substring, update the start index\n",
    "        if s[end] in char_index_map and char_index_map[s[end]] >= start:\n",
    "            start = char_index_map[s[end]] + 1\n",
    "\n",
    "        # Update the index of the current character\n",
    "        char_index_map[s[end]] = end\n",
    "\n",
    "        # Update the maximum length\n",
    "        max_length = max(max_length, end - start + 1)\n",
    "\n",
    "    return max_length\n",
    "\n",
    "# Example usage:\n",
    "input_string = \"abcabcbb\"\n",
    "result = longest_substring_without_repeating(input_string)\n",
    "print(result)\n"
   ]
  },
  {
   "cell_type": "code",
   "execution_count": 50,
   "metadata": {},
   "outputs": [
    {
     "name": "stdout",
     "output_type": "stream",
     "text": [
      "[(1, 1)]\n",
      "[(1, 1), (2, 2)]\n",
      "[(1, 1), (2, 2), (3, 3)]\n",
      "[(2, 2), (3, 3), (4, 4)]\n",
      "[4, 3]\n"
     ]
    }
   ],
   "source": [
    "''' K most frequent'''\n",
    "import heapq\n",
    "from collections import Counter\n",
    "'''The code defines a function called `k_most_frequent` that takes in two parameters: `arr` (a list of integers) and `k` (an integer).'''\n",
    "def k_most_frequent(arr, k):\n",
    "\n",
    "    freq = Counter(arr)\n",
    "    \n",
    "    # min-heap to store k elements \n",
    "    min_heap = []\n",
    "\n",
    "    for num, count in freq.items():\n",
    "        heapq.heappush(min_heap, (count, num))\n",
    "        # print(min_heap)\n",
    "        if len(min_heap) > k:\n",
    "            heapq.heappop(min_heap)\n",
    "            \n",
    "    # retrieve elements        \n",
    "    result = [heapq.heappop(min_heap)[1] for _ in range(k)] \n",
    "    result.reverse()\n",
    "            \n",
    "    return result\n",
    "\n",
    "# Example usage:\n",
    "arr = [1, 2, 2, 3, 3, 3, 4, 4, 4, 4]\n",
    "k = 2\n",
    "result = k_most_frequent(arr, k)\n",
    "print(result)"
   ]
  },
  {
   "cell_type": "code",
   "execution_count": 51,
   "metadata": {},
   "outputs": [
    {
     "name": "stdout",
     "output_type": "stream",
     "text": [
      "6\n"
     ]
    }
   ],
   "source": [
    "def longest_substring(s, k):\n",
    "    max_length = 0\n",
    "    count = {}\n",
    "\n",
    "    for i in range(len(s)):\n",
    "        if s[i] not in count:\n",
    "            count[s[i]] = 1\n",
    "        else:\n",
    "            count[s[i]] += 1\n",
    "\n",
    "        if len(count) == k:\n",
    "            max_length = max(max_length, i - next((j for j in range(i) if s[j] not in count), i) + 1)\n",
    "        elif len(count) > k:\n",
    "            for j in range(i - 1, -1, -1):\n",
    "                if s[j] in count and count[s[j]] == 1:\n",
    "                    del count[s[j]]\n",
    "                    break\n",
    "                else:\n",
    "                    count[s[j]] -= 1\n",
    "            max_length = max(max_length, i - next((j for j in range(i) if s[j] not in count), i) + 1)\n",
    "\n",
    "    return max_length\n",
    "\n",
    "s = \"ABABCDABEF\"\n",
    "k = 3\n",
    "print(longest_substring(s, k))"
   ]
  },
  {
   "cell_type": "code",
   "execution_count": 54,
   "metadata": {},
   "outputs": [
    {
     "name": "stdout",
     "output_type": "stream",
     "text": [
      "<queue.LifoQueue object at 0x0000021E0E5B0610>\n"
     ]
    }
   ],
   "source": [
    "import queue\n",
    "v = queue.LifoQueue(maxsize=0)\n",
    "v.put(\"The misunder\")\n",
    "v.put(\"Persepolis\")\n",
    "v.put(\"1984\")\n"
   ]
  },
  {
   "cell_type": "code",
   "execution_count": 2,
   "metadata": {},
   "outputs": [
    {
     "name": "stdout",
     "output_type": "stream",
     "text": [
      "0:Mick\n",
      "1:Bob\n",
      "2:Rory\n"
     ]
    }
   ],
   "source": [
    "flash_vile = ['Mick', 'Bob', 'Rory']\n",
    "for x,y in enumerate(flash_vile):\n",
    "    print(str(x) +':'+ y)"
   ]
  },
  {
   "cell_type": "code",
   "execution_count": 1,
   "metadata": {},
   "outputs": [
    {
     "name": "stdout",
     "output_type": "stream",
     "text": [
      "18\n"
     ]
    }
   ],
   "source": [
    "#Given two array find the highest number in both array.\n",
    "num1 = [0,1,3,5,8,4]\n",
    "num2 = [3,5,6,7,10, 2]\n",
    "v = max(num1) + max(num2)\n",
    "print(v)"
   ]
  },
  {
   "cell_type": "code",
   "execution_count": 1,
   "metadata": {},
   "outputs": [
    {
     "name": "stdout",
     "output_type": "stream",
     "text": [
      "'my apple' -> 'my'\n",
      "'' -> '00'\n",
      "'MS in CS looking for PhD' -> 'CS'\n",
      "'a bbb ccccc' -> '00'\n"
     ]
    }
   ],
   "source": [
    "#fIND THE LONGEST EVEN length word in the sentence.\n",
    "def longest_even(text):\n",
    "    longest = '00'\n",
    "    for word in text.split():\n",
    "        if len(word) % 2 == 0 and len(word) >= len(longest):\n",
    "            longest = word\n",
    "    return longest\n",
    "\n",
    "strings =[\"my apple\", \"\", \"MS in CS looking for PhD\", \n",
    "          \"a bbb ccccc\"]\n",
    "\n",
    "for string in strings:\n",
    "    print(f\"'{string}' -> '{longest_even(string)}'\")"
   ]
  },
  {
   "cell_type": "code",
   "execution_count": null,
   "metadata": {},
   "outputs": [],
   "source": [
    "# Python3 Program to check whether a\n",
    "# given key already exists in a dictionary.\n",
    "\n",
    "def checkKey(dic, key):\n",
    "\tif key in dic.keys():\n",
    "\t\tprint(\"Present, \", end =\" \")\n",
    "\t\tprint(\"value =\", dic[key])\n",
    "\telse:\n",
    "\t\tprint(\"Not present\")\n",
    "\t\t\n",
    "# Driver Code\n",
    "dic = {'a': 100, 'b':200, 'c':300}\n",
    "key = 'b'\n",
    "checkKey(dic, key)\n",
    "\n",
    "key = 'w'\n",
    "checkKey(dic, key)\n"
   ]
  },
  {
   "cell_type": "code",
   "execution_count": 3,
   "metadata": {},
   "outputs": [
    {
     "data": {
      "text/plain": [
       "{'mean': [[3.0, 4.0, 5.0], [1.0, 4.0, 7.0], 4.0],\n",
       " 'variance': [[6.0, 6.0, 6.0],\n",
       "  [0.6666666666666666, 0.6666666666666666, 0.6666666666666666],\n",
       "  6.666666666666667],\n",
       " 'standard deviation': [[2.449489742783178,\n",
       "   2.449489742783178,\n",
       "   2.449489742783178],\n",
       "  [0.816496580927726, 0.816496580927726, 0.816496580927726],\n",
       "  2.581988897471611],\n",
       " 'max': [[6, 7, 8], [2, 5, 8], 8],\n",
       " 'min': [[0, 1, 2], [0, 3, 6], 0],\n",
       " 'sum': [[9, 12, 15], [3, 12, 21], 36]}"
      ]
     },
     "execution_count": 3,
     "metadata": {},
     "output_type": "execute_result"
    }
   ],
   "source": [
    "import numpy as np \n",
    "numlist = [0,1,2,3,4,5,6,7,8]\n",
    "def calculate(list):\n",
    "    if len(list) != 9:\n",
    "        raise ValueError(\"List must contain nine numbers.\")\n",
    "    else:\n",
    "        arr = np.array(list).reshape(3,3)\n",
    "        calculation = {'mean': [np.mean(arr, axis=0).tolist(), np.mean(arr, axis=1).tolist(), np.mean(arr)], 'variance':[np.var(arr, axis=0).tolist(), np.var(arr, axis=1).tolist(), np.var(arr)], \n",
    "                       'standard deviation':[np.std(arr, axis=0).tolist(), np.std(arr, axis=1).tolist(), np.std(arr)], 'max': [np.max(arr, axis=0).tolist(), np.max(arr, axis=1).tolist(), np.max(arr)], 'min': [np.min(arr, axis=0).tolist(), np.min(arr, axis=1).tolist(), np.min(arr)],\n",
    "                       'sum': [np.sum(arr, axis=0).tolist(), np.sum(arr, axis=1).tolist(), np.sum(arr)]}\n",
    "    return(calculation)\n",
    "\n",
    "calculate(numlist)"
   ]
  },
  {
   "cell_type": "code",
   "execution_count": 1,
   "metadata": {},
   "outputs": [],
   "source": [
    "#COMBINING two dict with '|' operator\n",
    "dict1 = {'name': \"Prithvi\", 'Thesis':\"3D object detection and tracking\"}\n",
    "dict2 = {'work':\"ML Research\", 'Degree': \"MS in CompSci\"}\n",
    "\n",
    "prithvi = dict1 | dict2"
   ]
  },
  {
   "cell_type": "code",
   "execution_count": 1,
   "metadata": {},
   "outputs": [
    {
     "name": "stdout",
     "output_type": "stream",
     "text": [
      "[35, 22, 30, 30, 30, 30, 30, 35, 22, 90, 4, 50, 20, 30, 40, 1]\n"
     ]
    }
   ],
   "source": [
    "'''Pseudocode for Merge sort\n",
    "\n",
    "MergeSort(arr):\n",
    "    mid = length(arr)//2\n",
    "    left = [:mid]\n",
    "    right = [mid:]\n",
    "\n",
    "    merge(left)\n",
    "    merge(right)\n",
    "\n",
    "Merge(left, right):\n",
    "    result = []\n",
    "    while left is not empty and right is not empty:\n",
    "        if left[0] <= right[0]:\n",
    "            result.append(left[0])\n",
    "            left = left[1:]\n",
    "        else:\n",
    "            result.append(right[0])\n",
    "            right = right[1:]\n",
    "    \n",
    "    // Append any remaining elements\n",
    "    result.extend(left)\n",
    "    result.extend(right)\n",
    "    return result\n",
    "'''    \n",
    "\n",
    "def mergesort(arr):\n",
    "    mid = len(arr)//2\n",
    "    left_half = arr[:mid]\n",
    "    right_half = arr[mid:]\n",
    "\n",
    "    # left_half = mergesort(left_half)\n",
    "    # right_half = mergesort(right_half)\n",
    "    return Merge(left_half, right_half)\n",
    "\n",
    "def Merge(left_half, right_half):\n",
    "    merged = []\n",
    "    i=j=k=0\n",
    "    # Compare the first element of each list\n",
    "    while i < len(left_half) and j < len(right_half):\n",
    "        if left_half[i] <= right_half[j]:\n",
    "            merged.append(left_half[i])\n",
    "            i += 1\n",
    "            \n",
    "        else:\n",
    "            merged.append(right_half[i])\n",
    "            j += 1\n",
    "        k += 1\n",
    "\n",
    "    merged.extend(left_half)\n",
    "    merged.extend(right_half)\n",
    "    return merged\n",
    "\n",
    "# Testing code  \n",
    "my_list = [35,22,90,4,50,20,30,40,1]\n",
    "print(mergesort(my_list))"
   ]
  },
  {
   "cell_type": "code",
   "execution_count": 4,
   "metadata": {},
   "outputs": [
    {
     "name": "stdout",
     "output_type": "stream",
     "text": [
      "[1, 4, 20, 22, 30, 35, 40, 50, 90]\n"
     ]
    }
   ],
   "source": [
    "def mergesort(my_list: list)->list:\n",
    "    if len(my_list) <= 1:\n",
    "        return my_list\n",
    "    mid = len(my_list)//2\n",
    "    left_half = my_list[:mid]\n",
    "    right_half = my_list[mid:]\n",
    "\n",
    "    left_half= mergesort(left_half)\n",
    "    right_half = mergesort(right_half)\n",
    "\n",
    "    return Merge(left_half, right_half)\n",
    "\n",
    "def Merge(left: list, right: list)->list:\n",
    "    result = []\n",
    "    i=j=0\n",
    "    while i < len(left) and j  < len(right):\n",
    "        if  left[i] < right[j]:\n",
    "            result.append(left[i])\n",
    "            i+=1\n",
    "\n",
    "        else:\n",
    "            result.append(right[j])\n",
    "            j+=1\n",
    "    \n",
    "    while i < len(left):\n",
    "        result.append(left[i])\n",
    "        i+=1\n",
    "\n",
    "    while j  <len(right):\n",
    "        result.append(right[j])\n",
    "        j+=1\n",
    "        \n",
    "    return result\n",
    "my_list = [35,22,90,4,50,20,30,40,1]\n",
    "print(mergesort(my_list))\n",
    "\n",
    "    "
   ]
  },
  {
   "cell_type": "markdown",
   "metadata": {},
   "source": [
    "import java.util.Arrays;\n",
    "\n",
    "public class MergeSort {\n",
    "    public static void mergeSort(int[] arr) {\n",
    "        if (arr.length <= 1) {\n",
    "            return;\n",
    "        }\n",
    "        \n",
    "        int mid = arr.length / 2;\n",
    "        int[] leftHalf = Arrays.copyOfRange(arr, 0, mid);\n",
    "        int[] rightHalf = Arrays.copyOfRange(arr, mid, arr.length);\n",
    "        \n",
    "        mergeSort(leftHalf);\n",
    "        mergeSort(rightHalf);\n",
    "        \n",
    "        merge(arr, leftHalf, rightHalf);\n",
    "    }\n",
    "    \n",
    "    public static void merge(int[] arr, int[] left, int[] right) {\n",
    "        int leftIndex = 0, rightIndex = 0, index = 0;\n",
    "        \n",
    "        while (leftIndex < left.length && rightIndex < right.length) {\n",
    "            if (left[leftIndex] < right[rightIndex]) {\n",
    "                arr[index++] = left[leftIndex++];\n",
    "            } else {\n",
    "                arr[index++] = right[rightIndex++];\n",
    "            }\n",
    "        }\n",
    "        \n",
    "        while (leftIndex < left.length) {\n",
    "            arr[index++] = left[leftIndex++];\n",
    "        }\n",
    "        \n",
    "        while (rightIndex < right.length) {\n",
    "            arr[index++] = right[rightIndex++];\n",
    "        }\n",
    "    }\n",
    "    \n",
    "    public static void main(String[] args) {\n",
    "        int[] arr = {5, 2, 7, 1, 9, 3};\n",
    "        mergeSort(arr);\n",
    "        System.out.println(\"Sorted array: \" + Arrays.toString(arr));\n",
    "    }\n",
    "}\n"
   ]
  },
  {
   "cell_type": "markdown",
   "metadata": {},
   "source": [
    "using System;\n",
    "\n",
    "class MergeSort {\n",
    "    public static void MergeSortAlgorithm(int[] arr) {\n",
    "        if (arr.Length <= 1) {\n",
    "            return;\n",
    "        }\n",
    "\n",
    "        int mid = arr.Length / 2;\n",
    "        int[] leftHalf = new int[mid];\n",
    "        int[] rightHalf = new int[arr.Length - mid];\n",
    "\n",
    "        Array.Copy(arr, 0, leftHalf, 0, mid);\n",
    "        Array.Copy(arr, mid, rightHalf, 0, arr.Length - mid);\n",
    "\n",
    "        MergeSortAlgorithm(leftHalf);\n",
    "        MergeSortAlgorithm(rightHalf);\n",
    "\n",
    "        Merge(arr, leftHalf, rightHalf);\n",
    "    }\n",
    "\n",
    "    public static void Merge(int[] arr, int[] left, int[] right) {\n",
    "        int leftIndex = 0, rightIndex = 0, index = 0;\n",
    "\n",
    "        while (leftIndex < left.Length && rightIndex < right.Length) {\n",
    "            if (left[leftIndex] < right[rightIndex]) {\n",
    "                arr[index++] = left[leftIndex++];\n",
    "            } else {\n",
    "                arr[index++] = right[rightIndex++];\n",
    "            }\n",
    "        }\n",
    "\n",
    "        while (leftIndex < left.Length) {\n",
    "            arr[index++] = left[leftIndex++];\n",
    "        }\n",
    "\n",
    "        while (rightIndex < right.Length) {\n",
    "            arr[index++] = right[rightIndex++];\n",
    "        }\n",
    "    }\n",
    "\n",
    "    static void Main(string[] args) {\n",
    "        int[] arr = { 5, 2, 7, 1, 9, 3 };\n",
    "        MergeSortAlgorithm(arr);\n",
    "        Console.WriteLine(\"Sorted array: \" + string.Join(\", \", arr));\n",
    "    }\n",
    "}\n"
   ]
  },
  {
   "cell_type": "code",
   "execution_count": null,
   "metadata": {},
   "outputs": [],
   "source": [
    "import tempfile\n",
    "\n",
    "with tempfile.NamedTemporaryFile(suffix='.wav') as temp_audio_file:\n",
    "    temp_audio_file.write(audio)  # Assuming 'audio' is raw audio data\n",
    "    audio = decode_audio(temp_audio_file.name, sampling_rate=sampling_rate) "
   ]
  }
 ],
 "metadata": {
  "kernelspec": {
   "display_name": "Python 3",
   "language": "python",
   "name": "python3"
  },
  "language_info": {
   "codemirror_mode": {
    "name": "ipython",
    "version": 3
   },
   "file_extension": ".py",
   "mimetype": "text/x-python",
   "name": "python",
   "nbconvert_exporter": "python",
   "pygments_lexer": "ipython3",
   "version": "3.11.5"
  }
 },
 "nbformat": 4,
 "nbformat_minor": 2
}
