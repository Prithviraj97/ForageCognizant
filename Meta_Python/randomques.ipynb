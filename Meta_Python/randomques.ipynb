{
 "cells": [
  {
   "cell_type": "code",
   "execution_count": 2,
   "metadata": {},
   "outputs": [
    {
     "name": "stdout",
     "output_type": "stream",
     "text": [
      "['a', 'b', 'c']\n"
     ]
    }
   ],
   "source": [
    "old = ['a','b','a', 'c','b','a']\n",
    "#create a new list with unique elements i.e. no elements should repeat\n",
    "new_list=[]\n",
    "for element in old:\n",
    "    if element not in new_list:\n",
    "        new_list.append(element)    \n",
    "print (new_list)"
   ]
  },
  {
   "cell_type": "code",
   "execution_count": 5,
   "metadata": {},
   "outputs": [
    {
     "data": {
      "text/plain": [
       "['a', 'b', 'c']"
      ]
     },
     "execution_count": 5,
     "metadata": {},
     "output_type": "execute_result"
    }
   ],
   "source": [
    "#Better way to do above problem: better time and space complexity \n",
    "new_list2 = dict.fromkeys(old) #output ---> {'a': None, 'b': None, 'c': None}\n",
    "new_list2 = list(new_list2.keys()) #output --->[a,b,c]\n",
    "new_list2  "
   ]
  },
  {
   "cell_type": "code",
   "execution_count": 2,
   "metadata": {},
   "outputs": [
    {
     "name": "stdout",
     "output_type": "stream",
     "text": [
      "1\n"
     ]
    }
   ],
   "source": [
    "def swap_characters(input_str, index1, index2):\n",
    "    char_list = list(input_str)\n",
    "    if 0 <= index1 < len(char_list) and 0 <= index2 < len(char_list):\n",
    "        char_list[index1], char_list[index2] = char_list[index2], char_list[index1]\n",
    "        return ''.join(char_list)\n",
    "    else:\n",
    "        return input_str\n",
    "\n",
    "def matching_pairs(s, t):\n",
    "    if len(s) != len(t):\n",
    "        raise ValueError(\"Strings must have the same length\")\n",
    "\n",
    "    num_matching_pairs = 0\n",
    "\n",
    "    for i in range(len(s)):\n",
    "        if s[i] == t[i]:\n",
    "            continue  # Characters already match, no need to swap\n",
    "\n",
    "        # Try swapping characters at position i and j\n",
    "        for j in range(i + 1, len(s)):\n",
    "            swapped_s = swap_characters(s, i, j)\n",
    "            if swapped_s == t:\n",
    "                num_matching_pairs += 1\n",
    "                break  # Found a matching pair, move to the next character in s\n",
    "\n",
    "    return num_matching_pairs\n",
    "\n",
    "# Test the function\n",
    "s = \"abcd\"\n",
    "t = \"adcb\"\n",
    "result = matching_pairs(s, t)\n",
    "print(result)\n"
   ]
  },
  {
   "cell_type": "code",
   "execution_count": 3,
   "metadata": {},
   "outputs": [
    {
     "name": "stdout",
     "output_type": "stream",
     "text": [
      "✗Test #1: Expected [5] Your output: [3]\n",
      "✗Test #2: Expected [2] Your output: [4]\n"
     ]
    }
   ],
   "source": [
    "import math\n",
    "# Add any extra import statements you may need here\n",
    "\n",
    "\n",
    "# Add any helper functions you may need here\n",
    "def swap_char(string, i,j):\n",
    "  charlist = list(string)\n",
    "  if 0<=i<len(charlist) and 0<=j<len(charlist):\n",
    "    charlist[i], charlist[j] = charlist[j], charlist[i]\n",
    "    return ''.join(charlist)\n",
    "  else:\n",
    "    print(\"Invalid Indices\")\n",
    "    return string\n",
    "\n",
    "def matching_pairs(s, t):\n",
    "  # Write your code here\n",
    "  n = len(s)\n",
    "  match = sum(s[i] == t[i] for i in range(n))\n",
    "  mix_match = match\n",
    "  i,j = -1,-1\n",
    "  for x in range(n-1):\n",
    "      for y in range(x+1,n):\n",
    "          swaped = swap_char(s,x,y)\n",
    "          curmatch = sum(swaped[k]==t[k] for k in range(n))\n",
    "          if curmatch > mix_match:\n",
    "              mix_match = curmatch\n",
    "              i,j = x,y\n",
    "      return mix_match\n",
    "\n",
    "# These are the tests we use to determine if the solution is correct.\n",
    "# You can add your own at the bottom.\n",
    "\n",
    "def printInteger(n):\n",
    "  print('[', n, ']', sep='', end='')\n",
    "\n",
    "test_case_number = 1\n",
    "\n",
    "def check(expected, output):\n",
    "  global test_case_number\n",
    "  result = False\n",
    "  if expected == output:\n",
    "    result = True\n",
    "  rightTick = '\\u2713'\n",
    "  wrongTick = '\\u2717'\n",
    "  if result:\n",
    "    print(rightTick, 'Test #', test_case_number, sep='')\n",
    "  else:\n",
    "    print(wrongTick, 'Test #', test_case_number, ': Expected ', sep='', end='')\n",
    "    printInteger(expected)\n",
    "    print(' Your output: ', end='')\n",
    "    printInteger(output)\n",
    "    print()\n",
    "  test_case_number += 1\n",
    "\n",
    "if __name__ == \"__main__\":\n",
    "  s_1, t_1 = \"abcde\", \"adcbe\"\n",
    "  expected_1 = 5\n",
    "  output_1 = matching_pairs(s_1, t_1)\n",
    "  check(expected_1, output_1)\n",
    "\n",
    "  s_2, t_2 = \"abcd\", \"abcd\"\n",
    "  expected_2 = 2\n",
    "  output_2 = matching_pairs(s_2, t_2)\n",
    "  check(expected_2, output_2)\n",
    "\n",
    "  # Add your own test cases here\n",
    "  "
   ]
  },
  {
   "cell_type": "code",
   "execution_count": 7,
   "metadata": {},
   "outputs": [
    {
     "name": "stdout",
     "output_type": "stream",
     "text": [
      "3\n"
     ]
    }
   ],
   "source": [
    "def max_matching_pairs(s, t):\n",
    "    if len(s) != len(t):\n",
    "        raise ValueError(\"Strings must have the same length\")\n",
    "\n",
    "    n = len(s)\n",
    "\n",
    "    # Count initial matching pairs\n",
    "    initial_matching_pairs = sum(1 for i in range(n) if s[i] == t[i])\n",
    "\n",
    "    # Iterate over all pairs of indices (i, j) for swapping\n",
    "    max_matching_pairs = initial_matching_pairs\n",
    "\n",
    "    for i in range(n):\n",
    "        for j in range(i + 1, n):\n",
    "            # Swap characters at positions i and j in s\n",
    "            swapped_s = list(s)\n",
    "            swapped_s[i], swapped_s[j] = swapped_s[j], swapped_s[i]\n",
    "            swapped_s = ''.join(swapped_s)\n",
    "            if swapped_s[i] != swapped_s[j]:\n",
    "\n",
    "                # Count matching pairs after the swap\n",
    "                current_matching_pairs = sum(1 for k in range(n) if swapped_s[k] == t[k])\n",
    "\n",
    "                # Update the maximum matching pairs\n",
    "                max_matching_pairs = max(max_matching_pairs, current_matching_pairs)\n",
    "\n",
    "    return max_matching_pairs\n",
    "\n",
    "# Test the function\n",
    "s = \"mno\"\n",
    "t = \"mno\"\n",
    "result = max_matching_pairs(s, t)\n",
    "print(result)\n"
   ]
  },
  {
   "cell_type": "code",
   "execution_count": 15,
   "metadata": {},
   "outputs": [
    {
     "name": "stdout",
     "output_type": "stream",
     "text": [
      "-1\n"
     ]
    }
   ],
   "source": [
    "def min_substring_length(s, t):\n",
    "    # Count the frequency of characters in t\n",
    "    t_count = {}\n",
    "    for char in t:\n",
    "        t_count[char] = t_count.get(char, 0) + 1\n",
    "\n",
    "    # Initialize variables for sliding window\n",
    "    start = 0\n",
    "    end = 0\n",
    "    min_length = float('inf')\n",
    "    required_chars = len(t)\n",
    "\n",
    "    while end < len(s):\n",
    "        # Check if the current character is part of t\n",
    "        if s[end] in t_count:\n",
    "            if t_count[s[end]] > 0:\n",
    "                required_chars -= 1\n",
    "            t_count[s[end]] -= 1\n",
    "\n",
    "        # Try to minimize the substring by moving the start index\n",
    "        while required_chars == 0:\n",
    "            # Update the minimum length\n",
    "            min_length = min(min_length, end - start + 1)\n",
    "\n",
    "            # Move the start index and restore the character count\n",
    "            if s[start] in t_count:\n",
    "                t_count[s[start]] += 1\n",
    "                if t_count[s[start]] > 0:\n",
    "                    required_chars += 1\n",
    "            start += 1\n",
    "\n",
    "        # Move the end index to expand the substring\n",
    "        end += 1\n",
    "\n",
    "    return min_length if min_length != float('inf') else -1\n",
    "\n",
    "# Test the function\n",
    "s = \"bfbeadbcbcbfeaaeefcddcccbbbfaaafdbebedddf\"\n",
    "t = \"cbccfafebccdccebdd\"\n",
    "result = min_substring_length(s, t)\n",
    "print(result)\n"
   ]
  },
  {
   "cell_type": "code",
   "execution_count": 19,
   "metadata": {},
   "outputs": [
    {
     "name": "stdout",
     "output_type": "stream",
     "text": [
      "2\n"
     ]
    }
   ],
   "source": [
    "def minLengthSubstring(s, t):\n",
    "    m, n = len(s), len(t)\n",
    "    \n",
    "    res = float('inf')\n",
    "    for i in range(m):\n",
    "        visited = [0]*26\n",
    "        cnt = 0\n",
    "        \n",
    "        for j in range(i, m):\n",
    "            if j < m and visited[ord(s[j])-ord('a')] == 0: \n",
    "                visited[ord(s[j])-ord('a')] = 1\n",
    "                cnt += 1\n",
    "                \n",
    "            if cnt == n:\n",
    "                res = min(res, j-i+1)\n",
    "                break\n",
    "    if res == float('inf'):\n",
    "        return -1\n",
    "    return res\n",
    "s =  \"dcbefebce\"                              #\"bfbeadbcbcbfeaaeefcddcccbbbfaaafdbebedddf\"\n",
    "t =   \"fd\"                                          #\"cbccfafebccdccebdd\"\n",
    "result = minLengthSubstring(s, t)\n",
    "print(result)"
   ]
  },
  {
   "cell_type": "code",
   "execution_count": 20,
   "metadata": {},
   "outputs": [
    {
     "name": "stdout",
     "output_type": "stream",
     "text": [
      "-1\n"
     ]
    }
   ],
   "source": [
    "def minLengthSubstring2(s, t):\n",
    "    m, n = len(s), len(t)\n",
    "    if m < n: \n",
    "        return -1\n",
    "\n",
    "    min_len = float(\"inf\")\n",
    "    for i in range(m - n + 1):\n",
    "        chars = [0] * 26\n",
    "        for j in range(n):\n",
    "            index = ord(s[i+j]) - ord('a') \n",
    "            chars[index] += 1\n",
    "\n",
    "        if all(x > 0 for x in chars):\n",
    "            min_len = min(min_len, n)\n",
    "            break \n",
    "\n",
    "    if min_len == float(\"inf\"):\n",
    "        return -1\n",
    "\n",
    "    return min_len\n",
    "\n",
    "s =  \"dcbefebce\"                              #\"bfbeadbcbcbfeaaeefcddcccbbbfaaafdbebedddf\"\n",
    "t =   \"fd\"                                          #\"cbccfafebccdccebdd\"\n",
    "result = minLengthSubstring2(s, t)\n",
    "print(result)"
   ]
  }
 ],
 "metadata": {
  "kernelspec": {
   "display_name": "Python 3",
   "language": "python",
   "name": "python3"
  },
  "language_info": {
   "codemirror_mode": {
    "name": "ipython",
    "version": 3
   },
   "file_extension": ".py",
   "mimetype": "text/x-python",
   "name": "python",
   "nbconvert_exporter": "python",
   "pygments_lexer": "ipython3",
   "version": "3.11.2"
  }
 },
 "nbformat": 4,
 "nbformat_minor": 2
}
