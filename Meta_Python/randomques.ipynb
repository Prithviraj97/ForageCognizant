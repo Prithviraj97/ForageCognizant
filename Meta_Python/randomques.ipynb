{
 "cells": [
  {
   "cell_type": "code",
   "execution_count": 2,
   "metadata": {},
   "outputs": [
    {
     "name": "stdout",
     "output_type": "stream",
     "text": [
      "['a', 'b', 'c']\n"
     ]
    }
   ],
   "source": [
    "old = ['a','b','a', 'c','b','a']\n",
    "#create a new list with unique elements i.e. no elements should repeat\n",
    "new_list=[]\n",
    "for element in old:\n",
    "    if element not in new_list:\n",
    "        new_list.append(element)    \n",
    "print (new_list)"
   ]
  },
  {
   "cell_type": "code",
   "execution_count": 5,
   "metadata": {},
   "outputs": [
    {
     "data": {
      "text/plain": [
       "['a', 'b', 'c']"
      ]
     },
     "execution_count": 5,
     "metadata": {},
     "output_type": "execute_result"
    }
   ],
   "source": [
    "#Better way to do above problem: better time and space complexity \n",
    "new_list2 = dict.fromkeys(old) #output ---> {'a': None, 'b': None, 'c': None}\n",
    "new_list2 = list(new_list2.keys()) #output --->[a,b,c]\n",
    "new_list2 "
   ]
  }
 ],
 "metadata": {
  "kernelspec": {
   "display_name": "Python 3",
   "language": "python",
   "name": "python3"
  },
  "language_info": {
   "codemirror_mode": {
    "name": "ipython",
    "version": 3
   },
   "file_extension": ".py",
   "mimetype": "text/x-python",
   "name": "python",
   "nbconvert_exporter": "python",
   "pygments_lexer": "ipython3",
   "version": "3.11.2"
  }
 },
 "nbformat": 4,
 "nbformat_minor": 2
}
