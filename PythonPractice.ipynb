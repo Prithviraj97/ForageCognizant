{
 "cells": [
  {
   "cell_type": "code",
   "execution_count": null,
   "id": "f0273fca-1ecb-40db-a6e1-42bc645a9ff4",
   "metadata": {},
   "outputs": [],
   "source": [
    "def strthing(s):\n",
    "    d = { '(':')', '[':']', '{':'}'\n",
    "    }\n",
    "    stack = []\n",
    "    for char in s:\n",
    "        if char not in stack:\n",
    "            stack.append(s)\n",
    "        elif "
   ]
  },
  {
   "cell_type": "code",
   "execution_count": 1,
   "id": "4124320c-00d5-46e5-a90f-654a0e63b076",
   "metadata": {
    "tags": []
   },
   "outputs": [
    {
     "ename": "NameError",
     "evalue": "name 'a' is not defined",
     "output_type": "error",
     "traceback": [
      "\u001b[1;31m---------------------------------------------------------------------------\u001b[0m",
      "\u001b[1;31mNameError\u001b[0m                                 Traceback (most recent call last)",
      "Cell \u001b[1;32mIn[1], line 1\u001b[0m\n\u001b[1;32m----> 1\u001b[0m \u001b[38;5;241m1\u001b[39m\u001b[38;5;241m<\u001b[39m\u001b[38;5;241m=\u001b[39m\u001b[43ma\u001b[49m,b,c\u001b[38;5;241m<\u001b[39m\u001b[38;5;241m=\u001b[39m\u001b[38;5;241m100\u001b[39m\n",
      "\u001b[1;31mNameError\u001b[0m: name 'a' is not defined"
     ]
    }
   ],
   "source": [
    "1<=a,b,c<=100"
   ]
  },
  {
   "cell_type": "code",
   "execution_count": 3,
   "id": "513aacc6-1782-40c5-99d2-57b5eb4b6f2c",
   "metadata": {
    "tags": []
   },
   "outputs": [
    {
     "name": "stdout",
     "output_type": "stream",
     "text": [
      "nkdkmkwz\n"
     ]
    }
   ],
   "source": [
    "alphabet = 'abcdefghijklmnopqrstuvwxyz'\n",
    "def encrypt(text, key):\n",
    "  \n",
    "    encrypted_text = ''\n",
    "\n",
    "    # Fill in the blanks to create an encrypted text\n",
    "    for char in text.lower():\n",
    "        idx = (alphabet.index(char) + key) % len(alphabet)\n",
    "        encrypted_text = encrypted_text + alphabet[idx]\n",
    "\n",
    "    return encrypted_text\n",
    "\n",
    "# Check the encryption function with the shift equals to 10\n",
    "print(encrypt(\"datacamp\", 10))"
   ]
  },
  {
   "cell_type": "code",
   "execution_count": 5,
   "id": "f17c4097-ff62-469c-a2ee-cb7f3662a932",
   "metadata": {
    "tags": []
   },
   "outputs": [
    {
     "name": "stdout",
     "output_type": "stream",
     "text": [
      "['STRING', 'objects', 'HAVE', 'many', 'INTERESTING', 'properties']\n"
     ]
    }
   ],
   "source": [
    "#string operation to convert every other word in text to lower or else upper.\n",
    "# Create a word list from the string stored in text\n",
    "text = 'StRing ObJeCts haVe mANy inTEResting pROPerTies'\n",
    "word_list = text.split()\n",
    "\n",
    "# Make every other word lowercased; otherwise - uppercased\n",
    "for i in range(len(word_list)):\n",
    "    if (i+1)%2 == 0:\n",
    "        word_list[i] = word_list[i].lower()\n",
    "    else:\n",
    "        word_list[i] = word_list[i].upper()\n",
    "        \n",
    "# print(word_list)\n",
    "\n",
    "# Join the words back and form a new string\n",
    "new_text = ' '.join(word_list)\n",
    "print(new_text)"
   ]
  },
  {
   "cell_type": "code",
   "execution_count": null,
   "id": "8ad17b5b-f6b9-481e-91c0-e4a410daca88",
   "metadata": {},
   "outputs": [],
   "source": [
    "# Make all the values in the 'Hair color' column lowercased\n",
    "heroes['Hair color'] = heroes['Hair color'].str.lower()\n",
    "  \n",
    "# Check the values in the 'Hair color' column\n",
    "print(heroes['Hair color'].value_counts())\n",
    "\n",
    "# Substitute 'Fmale' with 'Female' in the 'Gender' column\n",
    "heroes['Gender'] = heroes['Gender'].str.replace('Fmale', 'Female')\n",
    "\n",
    "# Check if there is no occurences of 'Fmale'\n",
    "print(heroes['Gender'].value_counts())"
   ]
  },
  {
   "cell_type": "code",
   "execution_count": null,
   "id": "0da18b36-c52a-488c-8a3a-41dd0ce9f487",
   "metadata": {},
   "outputs": [],
   "source": [
    "import re\n",
    "# Define the pattern to search for valid temperatures\n",
    "pattern = re.compile(r'[+-]?\\d+\\.?\\d* [CF]')\n",
    "\n",
    "# Print the temperatures out\n",
    "print(re.findall(pattern, text))\n",
    "\n",
    "# Create an object storing the matches using 'finditer()'\n",
    "matches_storage = re.finditer(pattern, text)\n",
    "\n",
    "# Loop over matches_storage and print out item properties\n",
    "for match in matches_storage:\n",
    "    print('matching sequence = ' + match.group())\n",
    "    print('start index = ' + str(match.start()))\n",
    "    print('end index = ' + str(match.end()))"
   ]
  },
  {
   "cell_type": "code",
   "execution_count": null,
   "id": "3ac635f6-f5a2-467a-9d21-961c860a6326",
   "metadata": {},
   "outputs": [],
   "source": [
    "# Compile a regular expression\n",
    "pattern = re.compile(r', \\d+, ')\n",
    "\n",
    "movies_without_year = []\n",
    "for movie in movies:\n",
    "    # Retrieve a movie name and its director\n",
    "    split_result = re.split(pattern, movie)\n",
    "    # Create a new string with a movie name and its director\n",
    "    movie_and_director = ', '.join(split_result)\n",
    "    # Append the resulting string to movies_without_year\n",
    "    movies_without_year.append(movie_and_director)\n",
    "    \n",
    "for movie in movies_without_year:\n",
    "    print(movie)"
   ]
  },
  {
   "cell_type": "code",
   "execution_count": null,
   "id": "582e694a-9776-4136-82b4-e2eacd5c28bb",
   "metadata": {},
   "outputs": [],
   "source": [
    "def retrieve_character_indices(string):\n",
    "    character_indices = dict()\n",
    "    # Define the 'for' loop\n",
    "    for index, character in enumerate(string):\n",
    "        # Update the dictionary if the key already exists\n",
    "        if character in character_indices:\n",
    "            character_indices[character].append(index)\n",
    "        # Update the dictionary if the key is absent\n",
    "        else:\n",
    "            character_indices[character] = [index]\n",
    "            \n",
    "    return character_indices\n",
    "  \n",
    "print(retrieve_character_indices('enumerate an Iterable'))"
   ]
  },
  {
   "cell_type": "code",
   "execution_count": null,
   "id": "b1163554-d7bd-43c0-817f-cd84dba65518",
   "metadata": {},
   "outputs": [],
   "source": [
    "column_counts = dict()\n",
    "\n",
    "# Traverse through the columns in the heroes DataFrame\n",
    "for column_name, series in heroes.iteritems():\n",
    "    # Retrieve the values stored in series in a list form\n",
    "    values = list(series)\n",
    "    category_counts = dict()  \n",
    "    # Traverse through unique categories in values\n",
    "    for category in set(values):\n",
    "        # Count the appearance of category in values\n",
    "        category_counts[category] = values.count(category) #count method is applicable for set object\n",
    "    \n",
    "    column_counts[column_name] = category_counts\n",
    "    \n",
    "print(column_counts)"
   ]
  },
  {
   "cell_type": "code",
   "execution_count": null,
   "id": "87fe5c3c-58df-4ca1-a65c-8d38c7fe41e2",
   "metadata": {},
   "outputs": [],
   "source": [
    "# Convert the text to lower case and create a word list\n",
    "words = create_word_list(spam.lower())\n",
    "\n",
    "# Create a set storing only unique words\n",
    "word_set = set(words)\n",
    "\n",
    "# Create a dictionary that counts each word in the list\n",
    "tuples = [(word, words.count(word)) for word in word_set]\n",
    "word_counter = dict(tuples)\n",
    "\n",
    "# Printing words that appear more than once\n",
    "for (key, value) in word_counter.items():\n",
    "    if value > 1:\n",
    "        print(\"{}: {}\".format(key, value))"
   ]
  },
  {
   "cell_type": "code",
   "execution_count": null,
   "id": "746edb0b-0b35-4a05-8562-9ee32c8e28f6",
   "metadata": {},
   "outputs": [],
   "source": [
    "def is_prime(n):\n",
    "    # Define the initial check\n",
    "    if n < 2:\n",
    "       return False\n",
    "    # Define the loop checking if a number is not prime\n",
    "    for i in range(2, int(math.sqrt(n)) + 1):\n",
    "        if n % i == 0:\n",
    "            return False\n",
    "    return True\n",
    "    \n",
    "# Filter prime numbers into the new list\n",
    "primes = [num for num in cands if is_prime(num)]\n",
    "print(\"primes = \" + str(primes))"
   ]
  },
  {
   "cell_type": "code",
   "execution_count": null,
   "id": "7a32d546-708c-4bab-8522-f1579aacad3d",
   "metadata": {},
   "outputs": [],
   "source": [
    "def gcd(a, b):\n",
    "    # Define the while loop as described\n",
    "    while b != 0:\n",
    "        temp_a = a\n",
    "        a = b\n",
    "        b = temp_a % b    \n",
    "    # Complete the return statement\n",
    "    return a\n",
    "    \n",
    "# Create a list of tuples defining pairs of coprime numbers --- coprimes are numbers that have GCD of 1.\n",
    "coprimes = [(i, j) for i in list1 \n",
    "                   for j in list2 if gcd(i, j) == 1]\n",
    "print(coprimes)"
   ]
  },
  {
   "cell_type": "code",
   "execution_count": null,
   "id": "e0a0f331-d90d-4eab-a015-33d34bc034f5",
   "metadata": {},
   "outputs": [],
   "source": [
    "# Define a function searching for the longest word\n",
    "def get_longest_word(words):\n",
    "    longest_word = ''\n",
    "    for word in words:\n",
    "        if len(word) > len(longest_word):\n",
    "            longest_word = word\n",
    "    return longest_word\n",
    "\n",
    "# Create a list of the lengths of each list in wlist\n",
    "lengths = [len(item) for item in wlist]\n",
    "\n",
    "# Create a list of the longest words in each list in wlist\n",
    "words = [get_longest_word(item) for item in wlist]\n",
    "\n",
    "# Combine the resulting data into one iterable object\n",
    "for item in zip(wlist, lengths, words):\n",
    "    print(item)\n",
    "    \n",
    "# Create a list of tuples with lengths and longest words\n",
    "result = [\n",
    "    (len(item), get_longest_word(item)) for item in wlist\n",
    "]\n",
    "\n",
    "# Unzip the result    \n",
    "lengths, words = zip(*result)\n",
    "\n",
    "for item in zip(wlist, lengths, words):\n",
    "    print(item)"
   ]
  },
  {
   "cell_type": "code",
   "execution_count": null,
   "id": "3eb2a721-86d8-4368-8e50-17b8ed6929ad",
   "metadata": {},
   "outputs": [],
   "source": [
    "# Create a list of tuples with words and their lengths\n",
    "word_lengths = [\n",
    "    (item, len(item)) for items in wlist for item in items\n",
    "]\n",
    "\n",
    "# Unwrap the word_lengths\n",
    "words, lengths = zip(*word_lengths)\n",
    "\n",
    "# Create a zip object\n",
    "col_names = ['word', 'length']\n",
    "result = zip(col_names, [words, lengths])\n",
    "\n",
    "# Convert the result to a dictionary and build a DataFrame\n",
    "data_frame = pd.DataFrame(dict(result))\n",
    "print(data_frame)"
   ]
  },
  {
   "cell_type": "code",
   "execution_count": null,
   "id": "42d229b3-6c0b-4f81-aa21-ed89436a3873",
   "metadata": {},
   "outputs": [],
   "source": [
    "def shift_string(string, shift):\n",
    "    len_string = len(string)\n",
    "    # Loop over the indices of a string\n",
    "    for idx in range(0,len_string):\n",
    "        # Find which character will correspond to the index.\n",
    "        new_idx = (idx - shift) % len_string #if shift >= 0 else (idx - shift) % len_string\n",
    "        yield string[new_idx]\n",
    "\n",
    "# Create a generator\n",
    "gen = shift_string(\"DataCamp\", 3)\n",
    "\n",
    "# Create a new string using the generator and print it out\n",
    "string_shifted = ''.join(gen)\n",
    "print(string_shifted)\n"
   ]
  },
  {
   "cell_type": "code",
   "execution_count": null,
   "id": "b99bb4c7-dcc9-46f5-9046-44380f88e3f7",
   "metadata": {},
   "outputs": [],
   "source": [
    "def simulate_dice_throws():\n",
    "    total, out = 0, dict([(i, [0, 0]) for i in range(1, 7)])\n",
    "    while True:\n",
    "        # Simulate a single toss to get a new number\n",
    "        num = random.randint(1, 6)\n",
    "        total += 1\n",
    "        # Update the number and the ratio of realizations\n",
    "        out[num][0] += 1\n",
    "        for j in range(1, 7):\n",
    "        \tout[j][1] = round(out[j][0]/total, 2)\n",
    "        # Yield the updated dictionary\n",
    "        yield out\n",
    "\n",
    "# Create the generator and simulate 1000 tosses\n",
    "dice_simulator = simulate_dice_throws()\n",
    "for i in range(1, 1001):\n",
    "    print(str(i) + ': ' + str(next(dice_simulator)))"
   ]
  },
  {
   "cell_type": "code",
   "execution_count": null,
   "id": "73ed7e6e-7244-40ec-83af-b09d62e17fad",
   "metadata": {},
   "outputs": [],
   "source": [
    "def func1(n):\n",
    "  for i in range(0, n):\n",
    "    yield i**2\n",
    "def func2(n):\n",
    "  for i in range(0, n):\n",
    "     if i%2 == 0:\n",
    "       yield 2*i\n",
    "def func3(n, m):\n",
    "  for i in func1(n):\n",
    "    for j in func2(m):\n",
    "      yield ((i, j), i + j)\n",
    "    \n",
    "# Rewrite func3() as a generator comprehension\n",
    "gen = func3(8,10)\n",
    "\n",
    "for item in zip(gen, func3(8, 10)):\n",
    "    print(item)"
   ]
  },
  {
   "cell_type": "code",
   "execution_count": 1,
   "id": "2d2259ab-f33f-4fcc-91c5-10bf3e70fa3f",
   "metadata": {},
   "outputs": [
    {
     "name": "stdout",
     "output_type": "stream",
     "text": [
      "Creating the object\n",
      "<__main__.SingletonClass object at 0x000001D737D8DF10>\n",
      "<__main__.SingletonClass object at 0x000001D737D8DF10>\n"
     ]
    }
   ],
   "source": [
    "class SingletonClass:\n",
    "   _instance = None\n",
    "   \n",
    "   def __new__(cls):\n",
    "      if cls._instance is None:\n",
    "         print('Creating the object')\n",
    "         cls._instance = super(SingletonClass, cls).__new__(cls)\n",
    "      return cls._instance\n",
    "      \n",
    "obj1 = SingletonClass()\n",
    "print(obj1\n",
    ")\n",
    "obj2 = SingletonClass()\n",
    "print(obj2)"
   ]
  },
  {
   "cell_type": "code",
   "execution_count": 2,
   "id": "118383e7",
   "metadata": {},
   "outputs": [
    {
     "name": "stdout",
     "output_type": "stream",
     "text": [
      "TutorialsPoint\n"
     ]
    }
   ],
   "source": [
    "def decorator_function(Wrapped):\n",
    "   class Wrapper:\n",
    "      def __init__(self,x):\n",
    "         self.wrap = Wrapped(x)\n",
    "      def print_name(self):\n",
    "         return self.wrap.name\n",
    "   return Wrapper\n",
    "   \n",
    "@decorator_function\n",
    "class Wrapped:\n",
    "   def __init__(self,x):\n",
    "      self.name = x\n",
    "      \n",
    "obj = Wrapped('TutorialsPoint')\n",
    "print(obj.print_name())"
   ]
  },
  {
   "cell_type": "code",
   "execution_count": 3,
   "id": "2570c136",
   "metadata": {},
   "outputs": [
    {
     "name": "stdout",
     "output_type": "stream",
     "text": [
      "<enum 'subjects'> SANSKRIT S\n"
     ]
    }
   ],
   "source": [
    "from enum import Enum\n",
    "\n",
    "class subjects(Enum):\n",
    "   ENGLISH = \"E\"\n",
    "   MATHS = \"M\"\n",
    "   GEOGRAPHY = \"G\"\n",
    "   SANSKRIT = \"S\"\n",
    "   \n",
    "obj = subjects.SANSKRIT\n",
    "print (type(obj), obj.name, obj.value)"
   ]
  }
 ],
 "metadata": {
  "kernelspec": {
   "display_name": "Python 3 (ipykernel)",
   "language": "python",
   "name": "python3"
  },
  "language_info": {
   "codemirror_mode": {
    "name": "ipython",
    "version": 3
   },
   "file_extension": ".py",
   "mimetype": "text/x-python",
   "name": "python",
   "nbconvert_exporter": "python",
   "pygments_lexer": "ipython3",
   "version": "3.11.2"
  }
 },
 "nbformat": 4,
 "nbformat_minor": 5
}
